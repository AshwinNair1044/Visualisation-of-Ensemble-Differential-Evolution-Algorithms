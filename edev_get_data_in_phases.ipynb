{
 "cells": [
  {
   "cell_type": "code",
   "execution_count": 1,
   "id": "783596c3",
   "metadata": {},
   "outputs": [],
   "source": [
    "import pandas as pd\n",
    "import numpy as np"
   ]
  },
  {
   "cell_type": "code",
   "execution_count": 19,
   "id": "7fe05f35",
   "metadata": {},
   "outputs": [
    {
     "name": "stdout",
     "output_type": "stream",
     "text": [
      "Enter the quarter of points you need (1|2|3|4) => 2\n"
     ]
    }
   ],
   "source": [
    "phase = int(input(\"Enter the quarter of points you need (1|2|3|4) => \"))"
   ]
  },
  {
   "cell_type": "code",
   "execution_count": 41,
   "id": "308296da",
   "metadata": {
    "scrolled": true
   },
   "outputs": [
    {
     "name": "stdout",
     "output_type": "stream",
     "text": [
      "Make sure to write filename extention as .txt..\n"
     ]
    }
   ],
   "source": [
    "print(\"Make sure to write filename extention as .txt..\")\n",
    "file_ip = \"edev_f1.txt\"\n",
    "file_ = file_ip.split(\".\")\n",
    "file_op = file_[0]+\"_q\"+str(phase)+\".txt\""
   ]
  },
  {
   "cell_type": "code",
   "execution_count": 42,
   "id": "b1fb2308",
   "metadata": {},
   "outputs": [
    {
     "data": {
      "text/plain": [
       "'edev_f1_q2.txt'"
      ]
     },
     "execution_count": 42,
     "metadata": {},
     "output_type": "execute_result"
    }
   ],
   "source": [
    "file_op"
   ]
  },
  {
   "cell_type": "code",
   "execution_count": 43,
   "id": "ceb9a5d1",
   "metadata": {},
   "outputs": [],
   "source": [
    "file1 = open(file_ip, 'r')\n",
    "Lines = file1.readlines()\n",
    "file2 = open(file_op, 'w')\n",
    "\n",
    "# the below line if for writing the headers\n",
    "file2.writelines(Lines[0])\n",
    "\n",
    "def get_phase(phase):\n",
    "    counter = 0\n",
    "    skip = 2000\n",
    "    run = 1\n",
    "    if phase==1:\n",
    "        start,end = 2,502\n",
    "        while (run <= 10):\n",
    "            while ((counter+start)<=end):\n",
    "                file2.writelines(Lines[counter+start])\n",
    "                counter += 1\n",
    "            run += 1\n",
    "            counter = 1\n",
    "            start += skip\n",
    "            end += skip\n",
    "    elif phase==2:\n",
    "        start,end = 503,1002\n",
    "        while (run <= 10):\n",
    "            while ((counter+start)<=end):\n",
    "                file2.writelines(Lines[counter+start])\n",
    "                counter += 1\n",
    "            run += 1\n",
    "            counter = 1\n",
    "            start += skip\n",
    "            end += skip\n",
    "    elif phase==3:\n",
    "        start,end = 1003,1502\n",
    "        while (run <= 10):\n",
    "            while ((counter+start)<=end):\n",
    "                file2.writelines(Lines[counter+start])\n",
    "                counter += 1\n",
    "            run += 1\n",
    "            counter = 1\n",
    "            start += skip\n",
    "            end += skip \n",
    "    elif phase==4:\n",
    "        start,end = 1503,2002\n",
    "        while (run < 10):\n",
    "            while ((counter+start)<=end):\n",
    "                file2.writelines(Lines[counter+start])\n",
    "                counter += 1\n",
    "            run += 1\n",
    "            counter = 1\n",
    "            start += skip\n",
    "            end += skip\n",
    "        if (run==10):\n",
    "            start,end = 18002,20001\n",
    "            while (start < end):\n",
    "                file2.writelines(Lines[start])\n",
    "                start += counter  \n",
    "    else:\n",
    "        print(\"Enter phase number between 1-4 \")\n",
    "\n",
    "\n",
    "get_phase(phase)\n",
    "\n",
    "file2.close()\n",
    "file1.close()"
   ]
  },
  {
   "cell_type": "code",
   "execution_count": null,
   "id": "9f3bd914",
   "metadata": {},
   "outputs": [],
   "source": []
  }
 ],
 "metadata": {
  "kernelspec": {
   "display_name": "Python 3 (ipykernel)",
   "language": "python",
   "name": "python3"
  },
  "language_info": {
   "codemirror_mode": {
    "name": "ipython",
    "version": 3
   },
   "file_extension": ".py",
   "mimetype": "text/x-python",
   "name": "python",
   "nbconvert_exporter": "python",
   "pygments_lexer": "ipython3",
   "version": "3.9.10"
  }
 },
 "nbformat": 4,
 "nbformat_minor": 5
}
